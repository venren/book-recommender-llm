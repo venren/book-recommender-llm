{
 "cells": [
  {
   "cell_type": "code",
   "execution_count": 30,
   "id": "3fbe157b-d482-436a-ac9b-6e054c055dd0",
   "metadata": {},
   "outputs": [],
   "source": [
    "from typing import Dict,TypedDict\n",
    "from langgraph.graph import StateGraph"
   ]
  },
  {
   "cell_type": "code",
   "execution_count": 31,
   "id": "bbf6f139-331f-4c96-8ebe-1ccd0536b24e",
   "metadata": {},
   "outputs": [],
   "source": [
    "class AgentState(TypedDict):\n",
    "    name: str\n",
    "    operation: str\n",
    "    inp: list\n",
    "    result: str"
   ]
  },
  {
   "cell_type": "code",
   "execution_count": 32,
   "id": "301e7a79-f2bf-4648-ae58-5abd6cd61619",
   "metadata": {},
   "outputs": [],
   "source": [
    "def exeucte_operation(state: AgentState) -> AgentState:\n",
    "    result = 1\n",
    "    if state['operation'] == \"Add\":\n",
    "        for i in state['inp']:\n",
    "            result += i\n",
    "    if state['operation'] == \"Multiply\":\n",
    "        for i in state['inp']:\n",
    "            result *= i\n",
    "\n",
    "    state['result'] = f\"Hi {state['name']} !!! Result of your operation is {result}\"\n",
    "    return state\n",
    "            "
   ]
  },
  {
   "cell_type": "code",
   "execution_count": 33,
   "id": "e2db246e-db38-4cec-a2d2-5200a12a3a94",
   "metadata": {},
   "outputs": [],
   "source": [
    "graph = StateGraph(AgentState)\n",
    "graph.add_node(\"operation\", exeucte_operation)\n",
    "graph.set_entry_point(\"operation\")\n",
    "graph.set_finish_point(\"operation\")\n",
    "app = graph.compile()"
   ]
  },
  {
   "cell_type": "code",
   "execution_count": 34,
   "id": "872b79f3-02d9-49a6-8309-61320bbab182",
   "metadata": {},
   "outputs": [
    {
     "name": "stdout",
     "output_type": "stream",
     "text": [
      "{'name': 'Ram', 'operation': 'Add', 'inp': [1, 2, 5, 6, 7], 'result': 'Hi Ram !!! Result of your operation is 22'}\n"
     ]
    }
   ],
   "source": [
    "result = app.invoke({\"name\": 'Ram', \"operation\": 'Add', \"inp\": [1,2,5,6,7]})\n",
    "print(result)"
   ]
  }
 ],
 "metadata": {
  "kernelspec": {
   "display_name": "lang-graph-tutorials",
   "language": "python",
   "name": "lang-graph-tutorials"
  },
  "language_info": {
   "codemirror_mode": {
    "name": "ipython",
    "version": 3
   },
   "file_extension": ".py",
   "mimetype": "text/x-python",
   "name": "python",
   "nbconvert_exporter": "python",
   "pygments_lexer": "ipython3",
   "version": "3.12.6"
  }
 },
 "nbformat": 4,
 "nbformat_minor": 5
}
