{
 "cells": [
  {
   "cell_type": "code",
   "execution_count": 2,
   "id": "98782ac3-fbed-4176-827d-e396e91031de",
   "metadata": {},
   "outputs": [],
   "source": [
    "from langchain_community.document_loaders import TextLoader\n",
    "from langchain_text_splitters import CharacterTextSplitter\n",
    "from langchain_openai import OpenAIEmbeddings\n",
    "from langchain_chroma import Chroma"
   ]
  },
  {
   "cell_type": "code",
   "execution_count": 8,
   "id": "47ee16a4-347e-4b14-8093-69d58e83d0e2",
   "metadata": {},
   "outputs": [],
   "source": [
    "import pandas as pd\n",
    "books = pd.read_csv(\"books_cleaned.csv\")"
   ]
  },
  {
   "cell_type": "code",
   "execution_count": 10,
   "id": "49b10eb2-f0b0-4fc2-b612-3a2be666b6e8",
   "metadata": {},
   "outputs": [],
   "source": [
    "books[\"tagged_description\"].to_csv(\"tagged_description.txt\",\n",
    "                                   sep = \"\\n\",\n",
    "                                   index = False,\n",
    "                                   header = False)"
   ]
  },
  {
   "cell_type": "code",
   "execution_count": 14,
   "id": "11a22d5d-9a77-4a49-95d1-7e4ddd473eb5",
   "metadata": {},
   "outputs": [],
   "source": [
    "loader = TextLoader(\"tagged_description.txt\", encoding='utf-8')\n",
    "documents = loader.load()"
   ]
  }
 ],
 "metadata": {
  "kernelspec": {
   "display_name": "Python (book-recommender-llm)",
   "language": "python",
   "name": "book-recommender-llm"
  },
  "language_info": {
   "codemirror_mode": {
    "name": "ipython",
    "version": 3
   },
   "file_extension": ".py",
   "mimetype": "text/x-python",
   "name": "python",
   "nbconvert_exporter": "python",
   "pygments_lexer": "ipython3",
   "version": "3.11.8"
  }
 },
 "nbformat": 4,
 "nbformat_minor": 5
}
